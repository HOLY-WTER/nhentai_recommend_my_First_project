{
 "cells": [
  {
   "cell_type": "code",
   "execution_count": 1,
   "id": "0acc2f71",
   "metadata": {},
   "outputs": [],
   "source": [
    "import pandas as pd\n",
    "import numpy as np\n",
    "from sklearn.feature_extraction.text import CountVectorizer\n",
    "from sklearn.metrics.pairwise import cosine_similarity\n",
    "df =pd.read_csv(\"nhentailisttest3.csv\")\n"
   ]
  },
  {
   "cell_type": "code",
   "execution_count": 2,
   "id": "451d2809",
   "metadata": {},
   "outputs": [
    {
     "data": {
      "text/plain": [
       "'[Puu no Puupuupuu (Puuzaki Puuna)] Hitozukiai ga Nigate na Miboujin no Yukionna-san to Noroi no Yubiwa [English]'"
      ]
     },
     "execution_count": 2,
     "metadata": {},
     "output_type": "execute_result"
    }
   ],
   "source": [
    "df.Title[0]"
   ]
  },
  {
   "cell_type": "code",
   "execution_count": 3,
   "id": "8c4e7403",
   "metadata": {},
   "outputs": [
    {
     "data": {
      "text/plain": [
       "0    [Puu no Puupuupuu (Puuzaki Puuna)] Hitozukiai ...\n",
       "2    [Puu no Puupuupuu] Karui Kimochi de Heya ni Ag...\n",
       "Name: Title, dtype: object"
      ]
     },
     "execution_count": 3,
     "metadata": {},
     "output_type": "execute_result"
    }
   ],
   "source": [
    "df[df.Title.str.contains('Puupuupuu')].Title\n",
    "#df.iloc[1].overview"
   ]
  },
  {
   "cell_type": "code",
   "execution_count": 4,
   "id": "0db4956e",
   "metadata": {},
   "outputs": [
    {
     "data": {
      "text/plain": [
       "Artist    0\n",
       "Tag       0\n",
       "dtype: int64"
      ]
     },
     "execution_count": 4,
     "metadata": {},
     "output_type": "execute_result"
    }
   ],
   "source": [
    "features=['Artist','Tag']\n",
    "df[features].isnull().sum()"
   ]
  },
  {
   "cell_type": "code",
   "execution_count": 5,
   "id": "1138c04e",
   "metadata": {},
   "outputs": [
    {
     "data": {
      "text/plain": [
       "\"['zeroshiki kouichi']['english', 'translated', 'original', 'puu no puupuupuu', 'domination loss', 'sole male', 'big breasts', 'blowjob', 'deepthroat', 'femdom', 'garter belt', 'milf', 'mind control', 'pantyhose', 'sole female', 'stockings', 'widow', 'full color', 'mosaic censorship', 'doujinshi', 'nakadashi', 'leg lock', 'lingerie']\""
      ]
     },
     "execution_count": 5,
     "metadata": {},
     "output_type": "execute_result"
    }
   ],
   "source": [
    "df['combined_features']= df.Artist+''+df.Tag\n",
    "df.combined_features.head()\n",
    "df.iloc[0].combined_features"
   ]
  },
  {
   "cell_type": "code",
   "execution_count": 6,
   "id": "c6dc0bd7",
   "metadata": {},
   "outputs": [
    {
     "data": {
      "text/plain": [
       "(685, 1677)"
      ]
     },
     "execution_count": 6,
     "metadata": {},
     "output_type": "execute_result"
    }
   ],
   "source": [
    "cv=CountVectorizer()\n",
    "count_matrix=cv.fit_transform(df.combined_features)\n",
    "count_matrix.shape #499เรื่อง * 1334 colum"
   ]
  },
  {
   "cell_type": "code",
   "execution_count": 7,
   "id": "7da220c5",
   "metadata": {
    "scrolled": true
   },
   "outputs": [
    {
     "data": {
      "text/plain": [
       "(685, 685)"
      ]
     },
     "execution_count": 7,
     "metadata": {},
     "output_type": "execute_result"
    }
   ],
   "source": [
    "cosine_sim=cosine_similarity(count_matrix)\n",
    "cosine_sim.shape"
   ]
  },
  {
   "cell_type": "code",
   "execution_count": 11,
   "id": "5fa38da7",
   "metadata": {
    "scrolled": true
   },
   "outputs": [
    {
     "name": "stdout",
     "output_type": "stream",
     "text": [
      "[[1.    0.408 0.602 0.437 0.324 0.344 0.348 0.474]\n",
      " [0.408 1.    0.6   0.516 0.419 0.381 0.539 0.437]\n",
      " [0.602 0.6   1.    0.6   0.526 0.394 0.478 0.542]\n",
      " [0.437 0.516 0.6   1.    0.419 0.381 0.488 0.612]\n",
      " [0.324 0.419 0.526 0.419 1.    0.401 0.429 0.514]\n",
      " [0.344 0.381 0.394 0.381 0.401 1.    0.384 0.39 ]\n",
      " [0.348 0.539 0.478 0.488 0.429 0.384 1.    0.371]\n",
      " [0.474 0.437 0.542 0.612 0.514 0.39  0.371 1.   ]]\n"
     ]
    }
   ],
   "source": [
    "print(cosine_sim[:8,:8].round(3)) #roundเอาไว้ดูเศษ"
   ]
  },
  {
   "cell_type": "code",
   "execution_count": 12,
   "id": "112f568d",
   "metadata": {
    "scrolled": false
   },
   "outputs": [
    {
     "name": "stdout",
     "output_type": "stream",
     "text": [
      "[Puu no Puupuupuu (Puuzaki Puuna)] Hitozukiai ga Nigate na Miboujin no Yukionna-san to Noroi no Yubiwa [English]\n",
      "index= 0\n",
      "[Puu no Puupuupuu] Karui Kimochi de Heya ni Ageta Gal to Hamemakuri!? [English] [SDTLs]\n",
      "index= 2\n"
     ]
    }
   ],
   "source": [
    "user_choice  = 'Puu no Puupuupuu'\n",
    "ref_index = df[df.Title.str.contains(user_choice)].index\n",
    "for index in ref_index:\n",
    "    print(df.Title[index])\n",
    "    print(\"index= {0}\".format(index))\n"
   ]
  },
  {
   "cell_type": "code",
   "execution_count": 14,
   "id": "94e73351",
   "metadata": {},
   "outputs": [
    {
     "name": "stdout",
     "output_type": "stream",
     "text": [
      "1:TITLE=(C84) [Aomizuan (ti, Toilet Komoru)] Chikan Shita Joshikousei to Sonogo, Musabori Au you na Doero Junai | The Schoolgirl Who Was Groped, and the Perverted Love They Shared Afterwards [English] {doujin-moe.us} Score:59.844374893127636 \n",
      "Link=https://nhentai.net/g/107965\n",
      "\n",
      "2:TITLE=[Aomizuan (Erodezain Koubou)] Kiniitta Chitsu ni Ikinari Nakadashi OK na Resort Shima 3 | Resort Island of Women Who Love It When You Cum Inside Them 3 [English] [Krizalid] Score:58.457785294165134 \n",
      "Link=https://nhentai.net/g/157475\n",
      "\n",
      "3:TITLE=[Aomizuan (Sasada Aki)] InCha Bishoujo wa, Tannin ni Okasarete mo Ikimakuru 3 | Introverted Beauty Gets Raped Over and Over by Her Homeroom Teacher 3 [English] [HentieBoyz] [Digital] Score:57.61659596980322 \n",
      "Link=https://nhentai.net/g/368176\n",
      "\n",
      "4:TITLE=[Aomizuan (Katsurai Yoshiaki)] InCha Bishoujo wa Tannin ni Okasarete mo Ikimakuru 2 | Introverted Beauty Gets Raped Over and Over by Her Homeroom Teacher 2 [English] [Digital] Score:55.91491340752627 \n",
      "Link=https://nhentai.net/g/305896\n",
      "\n",
      "5:TITLE=[Sakamata Nerimono] HYPNO BLINK 1-16 [English] [Complete] Score:53.6774032210737 \n",
      "Link=https://nhentai.net/g/384873\n",
      "\n",
      "6:TITLE=[Puu no Puupuupuu] Karui Kimochi de Heya ni Ageta Gal to Hamemakuri!? [English] [SDTLs] Score:52.61367915016469 \n",
      "Link=https://nhentai.net/g/290886\n",
      "\n"
     ]
    }
   ],
   "source": [
    "similar__movies=list(enumerate(cosine_sim[4]))\n",
    "sorted_similar__movies=sorted(similar__movies,key=lambda x:x[1],reverse=True)[1:]\n",
    "x=sorted_similar__movies[:6]\n",
    "num=1\n",
    "for i in x:\n",
    "    print(\"{1}:TITLE={0} Score:{2} \".format(df.Title[i[0]],num,i[1]*100))\n",
    "    print(\"Link={0}\".format(df.URL[i[0]]))\n",
    "    print()\n",
    "    num+=1"
   ]
  },
  {
   "cell_type": "code",
   "execution_count": null,
   "id": "f7199318",
   "metadata": {},
   "outputs": [],
   "source": []
  }
 ],
 "metadata": {
  "kernelspec": {
   "display_name": "Python 3 (ipykernel)",
   "language": "python",
   "name": "python3"
  },
  "language_info": {
   "codemirror_mode": {
    "name": "ipython",
    "version": 3
   },
   "file_extension": ".py",
   "mimetype": "text/x-python",
   "name": "python",
   "nbconvert_exporter": "python",
   "pygments_lexer": "ipython3",
   "version": "3.9.7"
  }
 },
 "nbformat": 4,
 "nbformat_minor": 5
}
